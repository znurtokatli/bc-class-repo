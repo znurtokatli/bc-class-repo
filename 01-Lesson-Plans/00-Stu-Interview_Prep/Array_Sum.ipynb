{
 "cells": [
  {
   "cell_type": "markdown",
   "metadata": {},
   "source": [
    "Given an array of integers, find the sum of its elements.\n",
    "\n",
    "For example, if the array **ar = [1,2,3], 1 + 2 + 3 = 6**, so return **6**.\n",
    "\n",
    "## Function Description\n",
    "\n",
    "Complete the simpleArraySum function in the editor below. It must return the sum of the array elements as an integer.\n",
    "\n",
    "simpleArraySum has the following parameter(s):\n",
    "\n",
    "- ar: an array of integers\n",
    "\n",
    "## Input Format\n",
    "\n",
    "The first line contains an integer, , denoting the size of the array.\n",
    "The second line contains  space-separated integers representing the array's elements.\n",
    "\n",
    "## Constraints\n",
    "\n",
    "**0 < n, ar[i] <= 1000**\n",
    "\n",
    "## Output Format\n",
    "\n",
    "Print the sum of the array's elements as a single integer.\n",
    "\n",
    "\n",
    "## Sample Input\n",
    "\n",
    "> 6\n",
    ">\n",
    "> 1 2 3 4 10 11\n",
    "\n",
    "## Sample Output\n",
    "\n",
    "> 31\n",
    "\n",
    "## Explanation\n",
    "\n",
    "We print the sum of the array's elements: **1 + 2 + 3 + 4 + 10 + 11 = 31**"
   ]
  }
 ],
 "metadata": {
  "kernelspec": {
   "display_name": "PythonData",
   "language": "python",
   "name": "pythondata"
  },
  "language_info": {
   "codemirror_mode": {
    "name": "ipython",
    "version": 3
   },
   "file_extension": ".py",
   "mimetype": "text/x-python",
   "name": "python",
   "nbconvert_exporter": "python",
   "pygments_lexer": "ipython3",
   "version": "3.6.10"
  }
 },
 "nbformat": 4,
 "nbformat_minor": 2
}
